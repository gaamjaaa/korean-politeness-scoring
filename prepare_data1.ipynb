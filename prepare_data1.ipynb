{
 "cells": [
  {
   "cell_type": "code",
   "execution_count": 4,
   "id": "84a68fa6",
   "metadata": {},
   "outputs": [
    {
     "name": "stdout",
     "output_type": "stream",
     "text": [
      "*** Manual dataset columns ***\n",
      "['sentence', 'feat_ending', 'feat_strat_cnt', 'feat_command', 'feat_attack', 'feat_power', 'feat_distance', 'feat_indirect', 'score']\n",
      "                                sentence  feat_ending  feat_strat_cnt  \\\n",
      "0                             눈이 좀 오더구나.            0               0   \n",
      "1                           야. 지금 밖에 어때?            0               0   \n",
      "2  별말씀을요. 그럼 오늘 하루도 즐거운 마음으로 시작하시기 바랍니다.            2               1   \n",
      "\n",
      "   feat_command  feat_attack  feat_power  feat_distance  feat_indirect  score  \n",
      "0             0            0           0              0              0    0.0  \n",
      "1             0            0           0              0              0   -0.5  \n",
      "2             0            0           1              2              0    1.5  \n",
      "<class 'pandas.core.frame.DataFrame'>\n",
      "RangeIndex: 362 entries, 0 to 361\n",
      "Data columns (total 9 columns):\n",
      " #   Column          Non-Null Count  Dtype  \n",
      "---  ------          --------------  -----  \n",
      " 0   sentence        362 non-null    object \n",
      " 1   feat_ending     362 non-null    int64  \n",
      " 2   feat_strat_cnt  362 non-null    int64  \n",
      " 3   feat_command    362 non-null    int64  \n",
      " 4   feat_attack     362 non-null    int64  \n",
      " 5   feat_power      362 non-null    int64  \n",
      " 6   feat_distance   362 non-null    int64  \n",
      " 7   feat_indirect   362 non-null    int64  \n",
      " 8   score           362 non-null    float64\n",
      "dtypes: float64(1), int64(7), object(1)\n",
      "memory usage: 25.6+ KB\n",
      "None\n",
      "*** TyDiP dataset columns ***\n",
      "['sentence', 'score']\n",
      "                                            sentence     score\n",
      "0  본인 또한 여러권의 번역 및 저작물을 출간하였고 앞으로도 그러하여야 하는 입장에서 ...  0.065076\n",
      "1  따라서 문서 토론을 거치지 않고 삭제 토론에 먼저 회부가 된 것은 조금 성급하지 않...  1.201815\n",
      "2  굳이 이런 분류가 있어야 할 이유를 모르겠습니다. 있더라도 '배우'는 '연예게 인물...  0.080743\n",
      "<class 'pandas.core.frame.DataFrame'>\n",
      "RangeIndex: 500 entries, 0 to 499\n",
      "Data columns (total 2 columns):\n",
      " #   Column    Non-Null Count  Dtype  \n",
      "---  ------    --------------  -----  \n",
      " 0   sentence  500 non-null    object \n",
      " 1   score     500 non-null    float64\n",
      "dtypes: float64(1), object(1)\n",
      "memory usage: 7.9+ KB\n",
      "None\n"
     ]
    }
   ],
   "source": [
    "import pandas as pd\n",
    "import numpy as np\n",
    "from sklearn.model_selection import StratifiedShuffleSplit\n",
    "from sklearn.preprocessing import KBinsDiscretizer\n",
    "\n",
    "# 1) Manual 라벨링 데이터 (361문장)\n",
    "manual_path = \"./data/manual_labels.csv\"\n",
    "manual_df = pd.read_csv(manual_path)\n",
    "\n",
    "# 2) TyDiP 데이터 (500문장)\n",
    "tydip_path = \"./data/ko_test.csv\"\n",
    "tydip_df = pd.read_csv(tydip_path)\n",
    "\n",
    "print(\"*** Manual dataset columns ***\")\n",
    "print(manual_df.columns.tolist())\n",
    "print(manual_df.head(3))\n",
    "print(manual_df.info())  # 데이터 타입, 결측치 확인\n",
    "\n",
    "print(\"*** TyDiP dataset columns ***\")\n",
    "print(tydip_df.columns.tolist())\n",
    "print(tydip_df.head(3))\n",
    "print(tydip_df.info())"
   ]
  },
  {
   "cell_type": "code",
   "execution_count": null,
   "id": "f5e8907e",
   "metadata": {},
   "outputs": [
    {
     "name": "stdout",
     "output_type": "stream",
     "text": [
      "                                            sentence     score  score_reg\n",
      "0  본인 또한 여러권의 번역 및 저작물을 출간하였고 앞으로도 그러하여야 하는 입장에서 ...  0.065076   0.510846\n",
      "1  따라서 문서 토론을 거치지 않고 삭제 토론에 먼저 회부가 된 것은 조금 성급하지 않...  1.201815   0.700303\n",
      "2  굳이 이런 분류가 있어야 할 이유를 모르겠습니다. 있더라도 '배우'는 '연예게 인물...  0.080743   0.513457\n",
      "                                sentence  feat_ending  feat_strat_cnt  \\\n",
      "0                             눈이 좀 오더구나.            0               0   \n",
      "1                           야. 지금 밖에 어때?            0               0   \n",
      "2  별말씀을요. 그럼 오늘 하루도 즐거운 마음으로 시작하시기 바랍니다.            2               1   \n",
      "\n",
      "   feat_command  feat_attack  feat_power  feat_distance  feat_indirect  score  \\\n",
      "0             0            0           0              0              0    0.0   \n",
      "1             0            0           0              0              0   -0.5   \n",
      "2             0            0           1              2              0    1.5   \n",
      "\n",
      "   score_reg  \n",
      "0   0.500000  \n",
      "1   0.416667  \n",
      "2   0.750000  \n"
     ]
    }
   ],
   "source": [
    "# score: -3 ~ +3 → 0~1\n",
    "tydip_df[\"score_reg\"] = (tydip_df[\"score\"] + 3.0) / 6.0\n",
    "\n",
    "manual_df[\"score_reg\"] = (manual_df[\"score\"] + 3.0) / 6.0\n",
    "\n",
    "print(tydip_df.head(3))\n",
    "print(manual_df.head(3))"
   ]
  },
  {
   "cell_type": "code",
   "execution_count": null,
   "id": "d89491e4",
   "metadata": {},
   "outputs": [],
   "source": [
    "import pandas as pd\n",
    "\n",
    "manual_df = pd.read_csv(\"data/manual_labels.csv\")\n",
    "\n",
    "feature_cols = [\n",
    "    \"feat_ending\", \"feat_strat_cnt\", \"feat_command\",\n",
    "    \"feat_attack\", \"feat_power\", \"feat_distance\", \"feat_indirect\"\n",
    "]\n",
    "\n",
    "for col in feature_cols:\n",
    "    counts = manual_df[col].value_counts().sort_index()\n",
    "    print(f\">>> {col} 분포 (0~3):\")\n",
    "    print(counts)\n",
    "    print()\n"
   ]
  },
  {
   "cell_type": "code",
   "execution_count": null,
   "id": "62ef048e",
   "metadata": {},
   "outputs": [],
   "source": []
  },
  {
   "cell_type": "code",
   "execution_count": null,
   "id": "5f7fa999",
   "metadata": {},
   "outputs": [],
   "source": []
  },
  {
   "cell_type": "code",
   "execution_count": null,
   "id": "70f66525",
   "metadata": {},
   "outputs": [],
   "source": []
  }
 ],
 "metadata": {
  "kernelspec": {
   "display_name": "base",
   "language": "python",
   "name": "python3"
  },
  "language_info": {
   "codemirror_mode": {
    "name": "ipython",
    "version": 3
   },
   "file_extension": ".py",
   "mimetype": "text/x-python",
   "name": "python",
   "nbconvert_exporter": "python",
   "pygments_lexer": "ipython3",
   "version": "3.7.13"
  }
 },
 "nbformat": 4,
 "nbformat_minor": 5
}
